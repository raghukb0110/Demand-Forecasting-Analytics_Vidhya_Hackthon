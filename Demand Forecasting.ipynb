{
 "cells": [
  {
   "cell_type": "markdown",
   "id": "a6e90d30",
   "metadata": {},
   "source": [
    "### Importing the Relevant Libraries"
   ]
  },
  {
   "cell_type": "code",
   "execution_count": 1,
   "id": "79dd72ff",
   "metadata": {},
   "outputs": [],
   "source": [
    "import matplotlib.pyplot as plt\n",
    "import pandas as pd\n",
    "import numpy as np\n",
    "import seaborn as sns\n",
    "\n",
    "from sklearn.preprocessing import LabelEncoder\n",
    "from sklearn.model_selection import train_test_split\n",
    "from sklearn import metrics\n",
    "from sklearn.linear_model import LinearRegression\n",
    "\n",
    "import warnings\n",
    "warnings.filterwarnings('always')\n",
    "warnings.filterwarnings('ignore')"
   ]
  },
  {
   "cell_type": "markdown",
   "id": "8c6d7e4c",
   "metadata": {},
   "source": [
    "### Data Inspection"
   ]
  },
  {
   "cell_type": "code",
   "execution_count": 2,
   "id": "0b2d89db",
   "metadata": {},
   "outputs": [],
   "source": [
    "train = pd.read_csv(\"train_E1GspfA.csv\")\n",
    "test = pd.read_csv(\"test_6QvDdzb.csv\")"
   ]
  },
  {
   "cell_type": "code",
   "execution_count": 3,
   "id": "e8c54f28",
   "metadata": {},
   "outputs": [
    {
     "data": {
      "text/html": [
       "<div>\n",
       "<style scoped>\n",
       "    .dataframe tbody tr th:only-of-type {\n",
       "        vertical-align: middle;\n",
       "    }\n",
       "\n",
       "    .dataframe tbody tr th {\n",
       "        vertical-align: top;\n",
       "    }\n",
       "\n",
       "    .dataframe thead th {\n",
       "        text-align: right;\n",
       "    }\n",
       "</style>\n",
       "<table border=\"1\" class=\"dataframe\">\n",
       "  <thead>\n",
       "    <tr style=\"text-align: right;\">\n",
       "      <th></th>\n",
       "      <th>date</th>\n",
       "      <th>hour</th>\n",
       "      <th>demand</th>\n",
       "    </tr>\n",
       "  </thead>\n",
       "  <tbody>\n",
       "    <tr>\n",
       "      <th>0</th>\n",
       "      <td>2018-08-18</td>\n",
       "      <td>9</td>\n",
       "      <td>91</td>\n",
       "    </tr>\n",
       "    <tr>\n",
       "      <th>1</th>\n",
       "      <td>2018-08-18</td>\n",
       "      <td>10</td>\n",
       "      <td>21</td>\n",
       "    </tr>\n",
       "    <tr>\n",
       "      <th>2</th>\n",
       "      <td>2018-08-18</td>\n",
       "      <td>13</td>\n",
       "      <td>23</td>\n",
       "    </tr>\n",
       "    <tr>\n",
       "      <th>3</th>\n",
       "      <td>2018-08-18</td>\n",
       "      <td>14</td>\n",
       "      <td>104</td>\n",
       "    </tr>\n",
       "    <tr>\n",
       "      <th>4</th>\n",
       "      <td>2018-08-18</td>\n",
       "      <td>15</td>\n",
       "      <td>81</td>\n",
       "    </tr>\n",
       "  </tbody>\n",
       "</table>\n",
       "</div>"
      ],
      "text/plain": [
       "         date  hour  demand\n",
       "0  2018-08-18     9      91\n",
       "1  2018-08-18    10      21\n",
       "2  2018-08-18    13      23\n",
       "3  2018-08-18    14     104\n",
       "4  2018-08-18    15      81"
      ]
     },
     "execution_count": 3,
     "metadata": {},
     "output_type": "execute_result"
    }
   ],
   "source": [
    "train.head()"
   ]
  },
  {
   "cell_type": "code",
   "execution_count": 4,
   "id": "e6bdcf87",
   "metadata": {},
   "outputs": [
    {
     "data": {
      "text/plain": [
       "((18247, 3), (7650, 2))"
      ]
     },
     "execution_count": 4,
     "metadata": {},
     "output_type": "execute_result"
    }
   ],
   "source": [
    "train.shape,test.shape"
   ]
  },
  {
   "cell_type": "code",
   "execution_count": 5,
   "id": "8c869696",
   "metadata": {},
   "outputs": [
    {
     "data": {
      "text/plain": [
       "date      0.0\n",
       "hour      0.0\n",
       "demand    0.0\n",
       "dtype: float64"
      ]
     },
     "execution_count": 5,
     "metadata": {},
     "output_type": "execute_result"
    }
   ],
   "source": [
    "#ratio of null values\n",
    "train.isnull().sum()/train.shape[0] *100"
   ]
  },
  {
   "cell_type": "code",
   "execution_count": 6,
   "id": "c7a56c57",
   "metadata": {},
   "outputs": [
    {
     "data": {
      "text/plain": [
       "date    0.0\n",
       "hour    0.0\n",
       "dtype: float64"
      ]
     },
     "execution_count": 6,
     "metadata": {},
     "output_type": "execute_result"
    }
   ],
   "source": [
    "#ratio of null values\n",
    "test.isnull().sum()/test.shape[0] *100"
   ]
  },
  {
   "cell_type": "code",
   "execution_count": 7,
   "id": "045e35b0",
   "metadata": {},
   "outputs": [
    {
     "name": "stdout",
     "output_type": "stream",
     "text": [
      "Categorical Features in Train Set: 1\n",
      "Numerical Features in Train Set: 2\n"
     ]
    }
   ],
   "source": [
    "#categorical features\n",
    "categorical = train.select_dtypes(include =[np.object])\n",
    "print(\"Categorical Features in Train Set:\",categorical.shape[1])\n",
    "\n",
    "#numerical features\n",
    "numerical= train.select_dtypes(include =[np.float64,np.int64])\n",
    "print(\"Numerical Features in Train Set:\",numerical.shape[1])"
   ]
  },
  {
   "cell_type": "code",
   "execution_count": 8,
   "id": "212e19e1",
   "metadata": {},
   "outputs": [
    {
     "name": "stdout",
     "output_type": "stream",
     "text": [
      "Categorical Features in Test Set: 1\n",
      "Numerical Features in Test Set: 1\n"
     ]
    }
   ],
   "source": [
    "#categorical features\n",
    "categorical = test.select_dtypes(include =[np.object])\n",
    "print(\"Categorical Features in Test Set:\",categorical.shape[1])\n",
    "\n",
    "#numerical features\n",
    "numerical= test.select_dtypes(include =[np.float64,np.int64])\n",
    "print(\"Numerical Features in Test Set:\",numerical.shape[1])"
   ]
  },
  {
   "cell_type": "markdown",
   "id": "ee8cad6e",
   "metadata": {},
   "source": [
    "### Data Cleaning"
   ]
  },
  {
   "cell_type": "code",
   "execution_count": 9,
   "id": "7ed82ac4",
   "metadata": {},
   "outputs": [
    {
     "data": {
      "text/plain": [
       "date      0\n",
       "hour      0\n",
       "demand    0\n",
       "dtype: int64"
      ]
     },
     "execution_count": 9,
     "metadata": {},
     "output_type": "execute_result"
    }
   ],
   "source": [
    "train.isnull().sum()"
   ]
  },
  {
   "cell_type": "code",
   "execution_count": 10,
   "id": "c740ef07",
   "metadata": {},
   "outputs": [
    {
     "data": {
      "text/plain": [
       "date    0\n",
       "hour    0\n",
       "dtype: int64"
      ]
     },
     "execution_count": 10,
     "metadata": {},
     "output_type": "execute_result"
    }
   ],
   "source": [
    "test.isnull().sum()"
   ]
  },
  {
   "cell_type": "code",
   "execution_count": 11,
   "id": "a44662f9",
   "metadata": {},
   "outputs": [
    {
     "data": {
      "text/html": [
       "<div>\n",
       "<style scoped>\n",
       "    .dataframe tbody tr th:only-of-type {\n",
       "        vertical-align: middle;\n",
       "    }\n",
       "\n",
       "    .dataframe tbody tr th {\n",
       "        vertical-align: top;\n",
       "    }\n",
       "\n",
       "    .dataframe thead th {\n",
       "        text-align: right;\n",
       "    }\n",
       "</style>\n",
       "<table border=\"1\" class=\"dataframe\">\n",
       "  <thead>\n",
       "    <tr style=\"text-align: right;\">\n",
       "      <th></th>\n",
       "      <th>date</th>\n",
       "      <th>hour</th>\n",
       "      <th>demand</th>\n",
       "    </tr>\n",
       "  </thead>\n",
       "  <tbody>\n",
       "    <tr>\n",
       "      <th>0</th>\n",
       "      <td>2018-08-18</td>\n",
       "      <td>9</td>\n",
       "      <td>91</td>\n",
       "    </tr>\n",
       "    <tr>\n",
       "      <th>1</th>\n",
       "      <td>2018-08-18</td>\n",
       "      <td>10</td>\n",
       "      <td>21</td>\n",
       "    </tr>\n",
       "    <tr>\n",
       "      <th>2</th>\n",
       "      <td>2018-08-18</td>\n",
       "      <td>13</td>\n",
       "      <td>23</td>\n",
       "    </tr>\n",
       "    <tr>\n",
       "      <th>3</th>\n",
       "      <td>2018-08-18</td>\n",
       "      <td>14</td>\n",
       "      <td>104</td>\n",
       "    </tr>\n",
       "    <tr>\n",
       "      <th>4</th>\n",
       "      <td>2018-08-18</td>\n",
       "      <td>15</td>\n",
       "      <td>81</td>\n",
       "    </tr>\n",
       "  </tbody>\n",
       "</table>\n",
       "</div>"
      ],
      "text/plain": [
       "         date  hour  demand\n",
       "0  2018-08-18     9      91\n",
       "1  2018-08-18    10      21\n",
       "2  2018-08-18    13      23\n",
       "3  2018-08-18    14     104\n",
       "4  2018-08-18    15      81"
      ]
     },
     "execution_count": 11,
     "metadata": {},
     "output_type": "execute_result"
    }
   ],
   "source": [
    "train.head()"
   ]
  },
  {
   "cell_type": "code",
   "execution_count": 12,
   "id": "75e7406c",
   "metadata": {},
   "outputs": [
    {
     "data": {
      "text/plain": [
       "<AxesSubplot:xlabel='hour'>"
      ]
     },
     "execution_count": 12,
     "metadata": {},
     "output_type": "execute_result"
    },
    {
     "data": {
      "image/png": "[encoded data removed]",
      "text/plain": [
       "<Figure size 576x360 with 1 Axes>"
      ]
     },
     "metadata": {
      "needs_background": "light"
     },
     "output_type": "display_data"
    }
   ],
   "source": [
    "plt.figure(figsize=(8,5))\n",
    "sns.boxplot('hour',data=train)"
   ]
  },
  {
   "cell_type": "code",
   "execution_count": 13,
   "id": "4ff77308",
   "metadata": {},
   "outputs": [
    {
     "data": {
      "text/plain": [
       "<AxesSubplot:xlabel='demand'>"
      ]
     },
     "execution_count": 13,
     "metadata": {},
     "output_type": "execute_result"
    },
    {
     "data": {
      "image/png": "[encoded data removed]",
      "text/plain": [
       "<Figure size 576x360 with 1 Axes>"
      ]
     },
     "metadata": {
      "needs_background": "light"
     },
     "output_type": "display_data"
    }
   ],
   "source": [
    "plt.figure(figsize=(8,5))\n",
    "sns.boxplot('demand',data=train)"
   ]
  },
  {
   "cell_type": "markdown",
   "id": "8b4e4f64",
   "metadata": {},
   "source": [
    "### Exploratory Data Analysis"
   ]
  },
  {
   "cell_type": "code",
   "execution_count": 14,
   "id": "5ecb3b60",
   "metadata": {},
   "outputs": [
    {
     "data": {
      "text/html": [
       "<div>\n",
       "<style scoped>\n",
       "    .dataframe tbody tr th:only-of-type {\n",
       "        vertical-align: middle;\n",
       "    }\n",
       "\n",
       "    .dataframe tbody tr th {\n",
       "        vertical-align: top;\n",
       "    }\n",
       "\n",
       "    .dataframe thead th {\n",
       "        text-align: right;\n",
       "    }\n",
       "</style>\n",
       "<table border=\"1\" class=\"dataframe\">\n",
       "  <thead>\n",
       "    <tr style=\"text-align: right;\">\n",
       "      <th></th>\n",
       "      <th>date</th>\n",
       "      <th>hour</th>\n",
       "      <th>demand</th>\n",
       "    </tr>\n",
       "  </thead>\n",
       "  <tbody>\n",
       "    <tr>\n",
       "      <th>0</th>\n",
       "      <td>2018-08-18</td>\n",
       "      <td>9</td>\n",
       "      <td>91</td>\n",
       "    </tr>\n",
       "    <tr>\n",
       "      <th>1</th>\n",
       "      <td>2018-08-18</td>\n",
       "      <td>10</td>\n",
       "      <td>21</td>\n",
       "    </tr>\n",
       "    <tr>\n",
       "      <th>2</th>\n",
       "      <td>2018-08-18</td>\n",
       "      <td>13</td>\n",
       "      <td>23</td>\n",
       "    </tr>\n",
       "    <tr>\n",
       "      <th>3</th>\n",
       "      <td>2018-08-18</td>\n",
       "      <td>14</td>\n",
       "      <td>104</td>\n",
       "    </tr>\n",
       "    <tr>\n",
       "      <th>4</th>\n",
       "      <td>2018-08-18</td>\n",
       "      <td>15</td>\n",
       "      <td>81</td>\n",
       "    </tr>\n",
       "  </tbody>\n",
       "</table>\n",
       "</div>"
      ],
      "text/plain": [
       "         date  hour  demand\n",
       "0  2018-08-18     9      91\n",
       "1  2018-08-18    10      21\n",
       "2  2018-08-18    13      23\n",
       "3  2018-08-18    14     104\n",
       "4  2018-08-18    15      81"
      ]
     },
     "execution_count": 14,
     "metadata": {},
     "output_type": "execute_result"
    }
   ],
   "source": [
    "train.head()"
   ]
  },
  {
   "cell_type": "code",
   "execution_count": 15,
   "id": "05ec25f2",
   "metadata": {},
   "outputs": [],
   "source": [
    "# Labelencoding\n",
    "le = LabelEncoder()\n",
    "var_mod = train.select_dtypes(include='object').columns\n",
    "for i in var_mod:\n",
    "    train[i] = le.fit_transform(train[i])\n",
    "    \n",
    "for i in var_mod:\n",
    "    test[i] = le.fit_transform(test[i])"
   ]
  },
  {
   "cell_type": "code",
   "execution_count": 16,
   "id": "c6b80eca",
   "metadata": {},
   "outputs": [],
   "source": [
    "# Seperate Features and Target\n",
    "X= train.drop(columns = ['demand'], axis=1)\n",
    "y= train['demand']"
   ]
  },
  {
   "cell_type": "code",
   "execution_count": 17,
   "id": "72c3b7fb",
   "metadata": {},
   "outputs": [],
   "source": [
    "# 20% data as validation set\n",
    "X_train,X_valid,y_train,y_valid = train_test_split(X,y,test_size=0.2,random_state=22)"
   ]
  },
  {
   "cell_type": "markdown",
   "id": "66549ec2",
   "metadata": {},
   "source": [
    "### ML models"
   ]
  },
  {
   "cell_type": "code",
   "execution_count": 18,
   "id": "61f9c1f5",
   "metadata": {},
   "outputs": [],
   "source": [
    "from sklearn.linear_model import Ridge, Lasso, LinearRegression\n",
    "from sklearn.tree import DecisionTreeRegressor\n",
    "from sklearn.neighbors import KNeighborsRegressor"
   ]
  },
  {
   "cell_type": "code",
   "execution_count": 19,
   "id": "05e20711",
   "metadata": {},
   "outputs": [],
   "source": [
    "algos = [LinearRegression(),  Ridge(), Lasso(),\n",
    "          KNeighborsRegressor(), DecisionTreeRegressor()]\n",
    "\n",
    "names = ['Linear Regression', 'Ridge Regression', 'Lasso Regression',\n",
    "         'K Neighbors Regressor', 'Decision Tree Regressor']\n",
    "\n",
    "rmse_list = []"
   ]
  },
  {
   "cell_type": "code",
   "execution_count": 20,
   "id": "17ac4683",
   "metadata": {},
   "outputs": [],
   "source": [
    "for name in algos:\n",
    "    model = name\n",
    "    model.fit(X_train,y_train)\n",
    "    y_pred = model.predict(X_valid)\n",
    "    MSE= metrics.mean_squared_error(y_valid,y_pred)\n",
    "    rmse = np.sqrt(MSE)\n",
    "    rmse_list.append(rmse)"
   ]
  },
  {
   "cell_type": "code",
   "execution_count": 21,
   "id": "666d8654",
   "metadata": {},
   "outputs": [],
   "source": [
    "evaluation = pd.DataFrame({'Model': names,\n",
    "                           'RMSE': rmse_list})"
   ]
  },
  {
   "cell_type": "code",
   "execution_count": 22,
   "id": "9f3a1bf5",
   "metadata": {},
   "outputs": [
    {
     "data": {
      "text/html": [
       "<div>\n",
       "<style scoped>\n",
       "    .dataframe tbody tr th:only-of-type {\n",
       "        vertical-align: middle;\n",
       "    }\n",
       "\n",
       "    .dataframe tbody tr th {\n",
       "        vertical-align: top;\n",
       "    }\n",
       "\n",
       "    .dataframe thead th {\n",
       "        text-align: right;\n",
       "    }\n",
       "</style>\n",
       "<table border=\"1\" class=\"dataframe\">\n",
       "  <thead>\n",
       "    <tr style=\"text-align: right;\">\n",
       "      <th></th>\n",
       "      <th>Model</th>\n",
       "      <th>RMSE</th>\n",
       "    </tr>\n",
       "  </thead>\n",
       "  <tbody>\n",
       "    <tr>\n",
       "      <th>0</th>\n",
       "      <td>Linear Regression</td>\n",
       "      <td>39.745001</td>\n",
       "    </tr>\n",
       "    <tr>\n",
       "      <th>1</th>\n",
       "      <td>Ridge Regression</td>\n",
       "      <td>39.745001</td>\n",
       "    </tr>\n",
       "    <tr>\n",
       "      <th>2</th>\n",
       "      <td>Lasso Regression</td>\n",
       "      <td>39.747168</td>\n",
       "    </tr>\n",
       "    <tr>\n",
       "      <th>3</th>\n",
       "      <td>K Neighbors Regressor</td>\n",
       "      <td>34.342517</td>\n",
       "    </tr>\n",
       "    <tr>\n",
       "      <th>4</th>\n",
       "      <td>Decision Tree Regressor</td>\n",
       "      <td>43.739149</td>\n",
       "    </tr>\n",
       "  </tbody>\n",
       "</table>\n",
       "</div>"
      ],
      "text/plain": [
       "                     Model       RMSE\n",
       "0        Linear Regression  39.745001\n",
       "1         Ridge Regression  39.745001\n",
       "2         Lasso Regression  39.747168\n",
       "3    K Neighbors Regressor  34.342517\n",
       "4  Decision Tree Regressor  43.739149"
      ]
     },
     "execution_count": 22,
     "metadata": {},
     "output_type": "execute_result"
    }
   ],
   "source": [
    "evaluation"
   ]
  },
  {
   "cell_type": "code",
   "execution_count": 23,
   "id": "fb0eb22c",
   "metadata": {},
   "outputs": [],
   "source": [
    "submission = pd.read_csv('sample_4E0BhPN.csv')\n",
    "\n",
    "# Fitting data to choosed ML model\n",
    "model = KNeighborsRegressor()\n",
    "model.fit(X, y)\n",
    "final_predictions = model.predict(test)\n",
    "\n",
    "submission['demand'] = final_predictions\n",
    "\n",
    "# only positive predictions for the target variable\n",
    "submission['demand'] = submission['demand'].apply(lambda x: 0 if x<0 else x)\n",
    "\n",
    "submission.to_csv('my_submission.csv', index=False)"
   ]
  },
  {
   "cell_type": "code",
   "execution_count": null,
   "id": "8188282f",
   "metadata": {},
   "outputs": [],
   "source": []
  }
 ],
 "metadata": {
  "kernelspec": {
   "display_name": "Python 3",
   "language": "python",
   "name": "python3"
  },
  "language_info": {
   "codemirror_mode": {
    "name": "ipython",
    "version": 3
   },
   "file_extension": ".py",
   "mimetype": "text/x-python",
   "name": "python",
   "nbconvert_exporter": "python",
   "pygments_lexer": "ipython3",
   "version": "3.8.8"
  }
 },
 "nbformat": 4,
 "nbformat_minor": 5
}
